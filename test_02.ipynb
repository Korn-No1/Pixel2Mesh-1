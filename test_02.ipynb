{
 "cells": [
  {
   "attachments": {},
   "cell_type": "markdown",
   "metadata": {},
   "source": [
    "mesh.py"
   ]
  },
  {
   "cell_type": "code",
   "execution_count": 1,
   "metadata": {},
   "outputs": [],
   "source": [
    "import os\n",
    "import pickle\n",
    "\n",
    "import numpy as np\n",
    "import torch\n",
    "import trimesh\n",
    "from scipy.sparse import coo_matrix\n",
    "\n",
    "import config"
   ]
  },
  {
   "cell_type": "code",
   "execution_count": 26,
   "metadata": {},
   "outputs": [
    {
     "name": "stdout",
     "output_type": "stream",
     "text": [
      "<class 'tuple'>\n",
      "\n",
      "\n",
      "<class 'numpy.ndarray'>\n",
      "(156, 3)\n",
      "\n",
      "\n",
      "<class 'list'>\n",
      "2\n",
      "<class 'tuple'>\n",
      "3\n",
      "<class 'numpy.ndarray'>\n",
      "(1080, 2)\n",
      "\n",
      "\n",
      "<class 'numpy.ndarray'>\n",
      "(156, 10)\n",
      "\n",
      "\n",
      "(1080, 2)\n"
     ]
    }
   ],
   "source": [
    "DATASET_ROOT = \"datasets/data\"\n",
    "ELLIPSOID_PATH = os.path.join(DATASET_ROOT, \"ellipsoid/info_ellipsoid.dat\")\n",
    "file=config.ELLIPSOID_PATH\n",
    "\n",
    "with open(file, \"rb\") as fp:\n",
    "    fp_info = pickle.load(fp, encoding='latin1')\n",
    "\n",
    "#elipsoid\n",
    "print(type(fp_info))\n",
    "print(\"\\n\")\n",
    "#points information\n",
    "print(type(fp_info[0]))\n",
    "print(fp_info[0].shape)#157个三维的point\n",
    "print(\"\\n\")\n",
    "#edge?\n",
    "print(type(fp_info[1]))\n",
    "print(len(fp_info[1]))\n",
    "print(type(fp_info[1][1]))\n",
    "print(len(fp_info[1][0]))\n",
    "print(type(fp_info[1][1][0]))\n",
    "print(fp_info[1][1][0].shape)\n",
    "print(\"\\n\")\n",
    "#lap idx?\n",
    "print(type(fp_info[7][0]))\n",
    "print(fp_info[7][0].shape)\n",
    "print(\"\\n\")\n",
    "\n",
    "\n",
    "print(fp_info[1][1][0].shape)"
   ]
  },
  {
   "cell_type": "code",
   "execution_count": null,
   "metadata": {},
   "outputs": [],
   "source": []
  }
 ],
 "metadata": {
  "kernelspec": {
   "display_name": "i2dl",
   "language": "python",
   "name": "i2dl"
  },
  "language_info": {
   "codemirror_mode": {
    "name": "ipython",
    "version": 3
   },
   "file_extension": ".py",
   "mimetype": "text/x-python",
   "name": "python",
   "nbconvert_exporter": "python",
   "pygments_lexer": "ipython3",
   "version": "3.7.11"
  },
  "orig_nbformat": 4,
  "vscode": {
   "interpreter": {
    "hash": "2157f2f6fea491708bdf3b88c9df8c47a191ee7e15867de77682126a4691a07d"
   }
  }
 },
 "nbformat": 4,
 "nbformat_minor": 2
}
