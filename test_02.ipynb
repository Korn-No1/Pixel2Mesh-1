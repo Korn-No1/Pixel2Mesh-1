{
 "cells": [
  {
   "attachments": {},
   "cell_type": "markdown",
   "metadata": {},
   "source": [
    "mesh.py"
   ]
  },
  {
   "cell_type": "code",
   "execution_count": 2,
   "metadata": {},
   "outputs": [],
   "source": [
    "import os\n",
    "import pickle\n",
    "\n",
    "import numpy as np\n",
    "import torch\n",
    "import trimesh\n",
    "from scipy.sparse import coo_matrix\n",
    "\n",
    "import config"
   ]
  },
  {
   "cell_type": "code",
   "execution_count": 3,
   "metadata": {},
   "outputs": [
    {
     "name": "stdout",
     "output_type": "stream",
     "text": [
      "<class 'tuple'>\n",
      "\n",
      "\n",
      "<class 'numpy.ndarray'>\n",
      "(156, 3)\n",
      "\n",
      "\n",
      "<class 'list'>\n",
      "2\n",
      "<class 'tuple'>\n",
      "3\n",
      "3\n",
      "<class 'numpy.ndarray'>\n",
      "<class 'numpy.ndarray'>\n",
      "<class 'tuple'>\n",
      "<class 'numpy.ndarray'>\n",
      "<class 'numpy.ndarray'>\n",
      "<class 'tuple'>\n",
      "(156, 2)\n",
      "(156,)\n",
      "2\n",
      "(1080, 2)\n",
      "(1080,)\n",
      "2\n",
      "\n",
      "\n",
      "<class 'int'>\n",
      "<class 'int'>\n",
      "\n",
      "\n",
      "2222222!\n",
      "<class 'list'>\n",
      "2\n",
      "<class 'tuple'>\n",
      "3\n",
      "3\n",
      "<class 'numpy.ndarray'>\n",
      "<class 'numpy.ndarray'>\n",
      "<class 'tuple'>\n",
      "<class 'numpy.ndarray'>\n",
      "<class 'numpy.ndarray'>\n",
      "<class 'tuple'>\n",
      "(618, 2)\n",
      "(618,)\n",
      "2\n",
      "(4314, 2)\n",
      "(4314,)\n",
      "2\n",
      "\n",
      "\n",
      "333333333!\n",
      "<class 'list'>\n",
      "2\n",
      "<class 'tuple'>\n",
      "3\n",
      "3\n",
      "<class 'numpy.ndarray'>\n",
      "<class 'numpy.ndarray'>\n",
      "<class 'tuple'>\n",
      "<class 'numpy.ndarray'>\n",
      "<class 'numpy.ndarray'>\n",
      "<class 'tuple'>\n",
      "(2466, 2)\n",
      "(2466,)\n",
      "2\n",
      "(17250, 2)\n",
      "(17250,)\n",
      "2\n",
      "\n",
      "\n",
      "<class 'list'>\n",
      "<class 'numpy.ndarray'>\n",
      "<class 'numpy.ndarray'>\n",
      "<class 'numpy.ndarray'>\n",
      "3\n",
      "(156, 10)\n",
      "(618, 10)\n",
      "(2466, 10)\n",
      "\n",
      "\n"
     ]
    }
   ],
   "source": [
    "DATASET_ROOT = \"datasets/data\"\n",
    "ELLIPSOID_PATH = os.path.join(DATASET_ROOT, \"ellipsoid/info_ellipsoid.dat\")\n",
    "file=config.ELLIPSOID_PATH\n",
    "\n",
    "with open(file, \"rb\") as fp:\n",
    "    fp_info = pickle.load(fp, encoding='latin1')\n",
    "\n",
    "#elipsoid\n",
    "print(type(fp_info))\n",
    "print(\"\\n\")\n",
    "#points information\n",
    "print(type(fp_info[0]))\n",
    "print(fp_info[0].shape)#157个三维的point\n",
    "print(\"\\n\")\n",
    "#edge?\n",
    "print(type(fp_info[1]))\n",
    "\n",
    "print(len(fp_info[1]))\n",
    "print(type(fp_info[1][0]))\n",
    "\n",
    "print(len(fp_info[1][0]))\n",
    "print(len(fp_info[1][1]))\n",
    "print(type(fp_info[1][0][0]))\n",
    "print(type(fp_info[1][0][1]))\n",
    "print(type(fp_info[1][0][2]))\n",
    "\n",
    "print(type(fp_info[1][1][0]))\n",
    "print(type(fp_info[1][1][1]))\n",
    "print(type(fp_info[1][1][2]))\n",
    "\n",
    "print(fp_info[1][0][0].shape)\n",
    "print(fp_info[1][0][1].shape)\n",
    "print(len(fp_info[1][0][2]))\n",
    "\n",
    "print(fp_info[1][1][0].shape)\n",
    "print(fp_info[1][1][1].shape)\n",
    "print(len(fp_info[1][1][2]))\n",
    "print(\"\\n\")\n",
    "\n",
    "print(type(fp_info[1][0][2][0]))\n",
    "print(type(fp_info[1][0][2][1]))\n",
    "\n",
    "print(\"\\n\")\n",
    "\n",
    "print(\"2222222!\")\n",
    "print(type(fp_info[2]))\n",
    "\n",
    "print(len(fp_info[2]))\n",
    "print(type(fp_info[2][0]))\n",
    "\n",
    "print(len(fp_info[2][0]))\n",
    "print(len(fp_info[2][1]))\n",
    "print(type(fp_info[2][0][0]))\n",
    "print(type(fp_info[2][0][1]))\n",
    "print(type(fp_info[2][0][2]))\n",
    "\n",
    "print(type(fp_info[2][1][0]))\n",
    "print(type(fp_info[2][1][1]))\n",
    "print(type(fp_info[2][1][2]))\n",
    "\n",
    "print(fp_info[2][0][0].shape)\n",
    "print(fp_info[2][0][1].shape)\n",
    "print(len(fp_info[1][0][2]))\n",
    "\n",
    "print(fp_info[2][1][0].shape)\n",
    "print(fp_info[2][1][1].shape)\n",
    "print(len(fp_info[2][1][2]))\n",
    "\n",
    "print(\"\\n\")\n",
    "print(\"333333333!\")\n",
    "print(type(fp_info[3]))\n",
    "\n",
    "print(len(fp_info[3]))\n",
    "print(type(fp_info[3][0]))\n",
    "\n",
    "print(len(fp_info[3][0]))\n",
    "print(len(fp_info[3][1]))\n",
    "print(type(fp_info[3][0][0]))\n",
    "print(type(fp_info[3][0][1]))\n",
    "print(type(fp_info[3][0][2]))\n",
    "\n",
    "print(type(fp_info[3][1][0]))\n",
    "print(type(fp_info[3][1][1]))\n",
    "print(type(fp_info[3][1][2]))\n",
    "\n",
    "\n",
    "print(fp_info[3][0][0].shape)\n",
    "print(fp_info[3][0][1].shape)\n",
    "print(len(fp_info[3][0][2]))\n",
    "\n",
    "print(fp_info[3][1][0].shape)\n",
    "print(fp_info[3][1][1].shape)\n",
    "print(len(fp_info[3][1][2]))\n",
    "\n",
    "print(\"\\n\")\n",
    "#lap idx?\n",
    "print(type(fp_info[7]))\n",
    "print(type(fp_info[7][0]))\n",
    "print(type(fp_info[7][1]))\n",
    "print(type(fp_info[7][2]))\n",
    "print(len(fp_info[7]))\n",
    "print(fp_info[7][0].shape)\n",
    "print(fp_info[7][1].shape)\n",
    "print(fp_info[7][2].shape)\n",
    "print(\"\\n\")\n"
   ]
  },
  {
   "cell_type": "code",
   "execution_count": 4,
   "metadata": {},
   "outputs": [
    {
     "name": "stdout",
     "output_type": "stream",
     "text": [
      "3\n",
      "tensor([[  1,   2,   7,  ...,  -1,   0,   7],\n",
      "        [  0,   2,   3,  ...,  -1,   1,   7],\n",
      "        [  0,   1,   4,  ...,  -1,   2,   5],\n",
      "        ...,\n",
      "        [129, 132, 133,  ...,  -1, 153,   7],\n",
      "        [135, 140, 142,  ...,  -1, 154,   5],\n",
      "        [136, 137, 142,  ...,  -1, 155,   7]])\n"
     ]
    }
   ],
   "source": [
    "with open(file, \"rb\") as fp:\n",
    "    fp_info = pickle.load(fp, encoding='latin1')\n",
    "\n",
    "edges, laplace_idx = [], []\n",
    "\n",
    "for i in range(3):\n",
    "    edges.append(torch.tensor(fp_info[1 + i][1][0], dtype=torch.long))\n",
    "    laplace_idx.append(torch.tensor(fp_info[7][i], dtype=torch.long))\n",
    "\n",
    "# print(len(edges))\n",
    "# print(edges[0].shape)\n",
    "# print(list(edges[0]))\n",
    "print(len(laplace_idx))\n",
    "# print(list(laplace_idx[0]))\n",
    "print(laplace_idx[0])"
   ]
  },
  {
   "cell_type": "code",
   "execution_count": 1,
   "metadata": {},
   "outputs": [
    {
     "ename": "NameError",
     "evalue": "name 'logger' is not defined",
     "output_type": "error",
     "traceback": [
      "\u001b[1;31m---------------------------------------------------------------------------\u001b[0m",
      "\u001b[1;31mNameError\u001b[0m                                 Traceback (most recent call last)",
      "\u001b[1;32m~\\AppData\\Local\\Temp/ipykernel_44596/3506135656.py\u001b[0m in \u001b[0;36m<module>\u001b[1;34m\u001b[0m\n\u001b[0;32m      1\u001b[0m \u001b[1;32mfrom\u001b[0m \u001b[0mlogging\u001b[0m \u001b[1;32mimport\u001b[0m \u001b[0mLogger\u001b[0m\u001b[1;33m\u001b[0m\u001b[1;33m\u001b[0m\u001b[0m\n\u001b[1;32m----> 2\u001b[1;33m \u001b[0mlogger\u001b[0m\u001b[1;33m.\u001b[0m\u001b[0minfo\u001b[0m\u001b[1;33m(\u001b[0m\u001b[1;34m\"CUDA visible devices is activated here, number of GPU setting is not working\"\u001b[0m\u001b[1;33m)\u001b[0m\u001b[1;33m\u001b[0m\u001b[1;33m\u001b[0m\u001b[0m\n\u001b[0m",
      "\u001b[1;31mNameError\u001b[0m: name 'logger' is not defined"
     ]
    }
   ],
   "source": [
    "from logging import Logger\n",
    "logger = logger\n",
    "logger.info(\"CUDA visible devices is activated here, number of GPU setting is not working\")"
   ]
  },
  {
   "cell_type": "code",
   "execution_count": null,
   "metadata": {},
   "outputs": [],
   "source": [
    "import os\n",
    "from skimage import io, transform\n",
    "import numpy as np"
   ]
  },
  {
   "cell_type": "code",
   "execution_count": 18,
   "metadata": {},
   "outputs": [
    {
     "name": "stdout",
     "output_type": "stream",
     "text": [
      "<class 'list'>\n",
      "500\n",
      "datasets/data/AFLW2000-3D/AFLW2000/image02795.txt\n",
      "(53215, 3)\n",
      "(53215, 3)\n",
      "(450, 450, 3)\n"
     ]
    }
   ],
   "source": [
    "file_root=\"datasets/data/AFLW2000-3D\"\n",
    "file_list_name=\"test_aflw\"\n",
    "\n",
    "with open(os.path.join(file_root, \"meta\", file_list_name + \".txt\"), \"r\") as fp:\n",
    "    file_names = fp.read().split(\"\\n\")\n",
    "\n",
    "print(type(file_names))\n",
    "print(len(file_names))\n",
    "\n",
    "filename = file_names[0]\n",
    "\n",
    "img_path =  file_root + \"/AFLW2000/\"+ filename\n",
    "data_path = file_root + \"/AFLW2000/\"+ filename[:-4] + \".txt\"\n",
    "\n",
    "print(data_path)\n",
    "\n",
    "data = np.loadtxt(\"datasets/data/AFLW2000-3D/image00002.txt\")\n",
    "\n",
    "pts, normals = data[:, :3], data[:, 3:]\n",
    "print(pts.shape)\n",
    "print(normals.shape)\n",
    "img = io.imread(img_path)\n",
    "print(img.shape)"
   ]
  },
  {
   "cell_type": "code",
   "execution_count": 12,
   "metadata": {},
   "outputs": [
    {
     "name": "stdout",
     "output_type": "stream",
     "text": [
      "<class 'numpy.ndarray'>\n",
      "(53215, 6)\n"
     ]
    }
   ],
   "source": [
    "data = np.loadtxt(\"datasets/data/AFLW2000-3D/image00002.txt\")\n",
    "print(type(data))\n",
    "print(data.shape)"
   ]
  }
 ],
 "metadata": {
  "kernelspec": {
   "display_name": "i2dl",
   "language": "python",
   "name": "i2dl"
  },
  "language_info": {
   "codemirror_mode": {
    "name": "ipython",
    "version": 3
   },
   "file_extension": ".py",
   "mimetype": "text/x-python",
   "name": "python",
   "nbconvert_exporter": "python",
   "pygments_lexer": "ipython3",
   "version": "3.7.11"
  },
  "orig_nbformat": 4,
  "vscode": {
   "interpreter": {
    "hash": "2157f2f6fea491708bdf3b88c9df8c47a191ee7e15867de77682126a4691a07d"
   }
  }
 },
 "nbformat": 4,
 "nbformat_minor": 2
}
