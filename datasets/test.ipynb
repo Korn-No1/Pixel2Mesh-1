{
 "cells": [
  {
   "cell_type": "code",
   "execution_count": 35,
   "metadata": {},
   "outputs": [],
   "source": [
    "import json\n",
    "import os\n",
    "import pickle\n",
    "from skimage import io\n",
    "import numpy as np\n",
    "import torch"
   ]
  },
  {
   "cell_type": "code",
   "execution_count": 2,
   "metadata": {},
   "outputs": [
    {
     "name": "stdout",
     "output_type": "stream",
     "text": [
      "['02691156', '02828884', '02933112', '02958343', '03001627', '03211117', '03636649', '03691459', '04090263', '04256520', '04379243', '04401088', '04530566']\n",
      "<enumerate object at 0x000002804D2648B8>\n",
      "{0: '02691156', 1: '02828884', 2: '02933112', 3: '02958343', 4: '03001627', 5: '03211117', 6: '03636649', 7: '03691459', 8: '04090263', 9: '04256520', 10: '04379243', 11: '04401088', 12: '04530566'}\n"
     ]
    }
   ],
   "source": [
    "with open(os.path.join(\"D:\\Projects\\Pixel2Mesh-1\\datasets\\data\\shapenet\", \"meta\", \"shapenet.json\"), \"r\") as fp:\n",
    "    # a=json.load(fp)\n",
    "    # print\n",
    "    labels_map = sorted(list(json.load(fp).keys()))\n",
    "\n",
    "print(labels_map)\n",
    "\n",
    "print(enumerate(labels_map))\n",
    "\n",
    "labels_map = {i:k for i, k in enumerate(labels_map)}\n",
    "\n",
    "print(labels_map)"
   ]
  },
  {
   "cell_type": "code",
   "execution_count": 4,
   "metadata": {},
   "outputs": [
    {
     "name": "stdout",
     "output_type": "stream",
     "text": [
      "<class 'list'>\n",
      "['02691156_fff513f407e00e85a9ced22d91ad7027_14.dat', '02691156_fff513f407e00e85a9ced22d91ad7027_15.dat', '02691156_fff513f407e00e85a9ced22d91ad7027_16.dat', '02691156_fff513f407e00e85a9ced22d91ad7027_17.dat', '02691156_fff513f407e00e85a9ced22d91ad7027_18.dat', '02691156_fff513f407e00e85a9ced22d91ad7027_19.dat', '02691156_fff513f407e00e85a9ced22d91ad7027_20.dat', '02691156_fff513f407e00e85a9ced22d91ad7027_21.dat', '02691156_fff513f407e00e85a9ced22d91ad7027_22.dat']\n",
      "['02691156_fff513f407e00e85a9ced22d91ad7027_14.dat', '02691156_fff513f407e00e85a9ced22d91ad7027_15.dat', '02691156_fff513f407e00e85a9ced22d91ad7027_16.dat', '02691156_fff513f407e00e85a9ced22d91ad7027_17.dat', '02691156_fff513f407e00e85a9ced22d91ad7027_18.dat', '02691156_fff513f407e00e85a9ced22d91ad7027_19.dat', '02691156_fff513f407e00e85a9ced22d91ad7027_20.dat', '02691156_fff513f407e00e85a9ced22d91ad7027_21.dat', '02691156_fff513f407e00e85a9ced22d91ad7027_22.dat']\n",
      "['02691156_fff513f407e00e85a9ced22d91ad7027_14.dat', '02691156_fff513f407e00e85a9ced22d91ad7027_15.dat', '02691156_fff513f407e00e85a9ced22d91ad7027_16.dat', '02691156_fff513f407e00e85a9ced22d91ad7027_17.dat', '02691156_fff513f407e00e85a9ced22d91ad7027_18.dat', '02691156_fff513f407e00e85a9ced22d91ad7027_19.dat', '02691156_fff513f407e00e85a9ced22d91ad7027_20.dat', '02691156_fff513f407e00e85a9ced22d91ad7027_21.dat', '02691156_fff513f407e00e85a9ced22d91ad7027_22.dat', '02691156_fff513f407e00e85a9ced22d91ad7027_23.dat']\n"
     ]
    }
   ],
   "source": [
    "with open(os.path.join(\"D:\\Projects\\Pixel2Mesh-1\\datasets\\data\\shapenet\", \"meta\", \"test_small.txt\"), \"r\") as fp:\n",
    "    file_names = fp.read().split(\"\\n\")\n",
    "\n",
    "print(type(file_names))\n",
    "print(file_names[-10:-1])\n",
    "print(file_names[-10:-1])\n",
    "print(file_names[-10:])"
   ]
  },
  {
   "cell_type": "code",
   "execution_count": 28,
   "metadata": {},
   "outputs": [
    {
     "name": "stdout",
     "output_type": "stream",
     "text": [
      "[0, 1, 2, 3, 4, 5, 6, 7, 8, 9]\n",
      "[0, 1, 2, 3, 4, 5, 6, 7, 8]\n"
     ]
    }
   ],
   "source": [
    "L = list(range(10))\n",
    "print(L)\n",
    "print(L[:9])"
   ]
  },
  {
   "cell_type": "code",
   "execution_count": 17,
   "metadata": {},
   "outputs": [
    {
     "name": "stdout",
     "output_type": "stream",
     "text": [
      "(8096, 3)\n",
      "[[-0.03563542  0.05891569 -0.89526075]\n",
      " [-0.05031313  0.06098781 -0.8937496 ]\n",
      " [-0.04333718  0.074516   -0.8918777 ]\n",
      " ...\n",
      " [ 0.02759777 -0.05798382 -0.68825823]\n",
      " [ 0.03280783 -0.06926504 -0.68265325]\n",
      " [ 0.03412661 -0.07334752 -0.6806949 ]]\n",
      "(8096, 3)\n"
     ]
    }
   ],
   "source": [
    "pkl_path =\"D:/Projects/Pixel2Mesh-1\\datasets\\data\\shapenet\\data_tf/02691156/fff513f407e00e85a9ced22d91ad7027/rendering/00.dat\"\n",
    "\n",
    "#with open(pkl_path) as f:\n",
    "data = pickle.load(open(pkl_path, 'rb'), encoding=\"latin1\")\n",
    "pts, normals = data[:, :3], data[:, 3:]\n",
    "print(pts.shape)\n",
    "print(pts)\n",
    "print(normals.shape)"
   ]
  },
  {
   "cell_type": "code",
   "execution_count": 26,
   "metadata": {},
   "outputs": [
    {
     "name": "stdout",
     "output_type": "stream",
     "text": [
      "(137, 137, 4)\n",
      "(137, 137, 4)\n"
     ]
    }
   ],
   "source": [
    "img = io.imread(\"D:\\Projects\\Pixel2Mesh-1\\datasets\\data\\shapenet\\data_tf/02691156/fff513f407e00e85a9ced22d91ad7027/rendering/00.png\")\n",
    "print(img.shape)\n",
    "#img[np.where(img[:, :, 3] == 0)] = 255\n",
    "print(img.shape)"
   ]
  },
  {
   "cell_type": "code",
   "execution_count": 30,
   "metadata": {},
   "outputs": [
    {
     "data": {
      "text/plain": [
       "'1.000000 (5.000000)'"
      ]
     },
     "execution_count": 30,
     "metadata": {},
     "output_type": "execute_result"
    }
   ],
   "source": [
    "\"%.6f (%.6f)\" % (1,5)"
   ]
  },
  {
   "cell_type": "code",
   "execution_count": 42,
   "metadata": {},
   "outputs": [
    {
     "name": "stdout",
     "output_type": "stream",
     "text": [
      "<class 'tuple'>\n",
      "[[-0.1475   -0.1475   -0.876884]\n",
      " [-0.1475   -0.161837 -0.845   ]\n",
      " [-0.176174 -0.1475   -0.845   ]\n",
      " [-0.1475   -0.164438 -0.7675  ]\n",
      " [-0.181376 -0.1475   -0.7675  ]\n",
      " [-0.1475   -0.1475   -0.723224]\n",
      " [-0.07     -0.1475   -0.924942]\n",
      " [-0.07     -0.149614 -0.9225  ]\n",
      " [-0.077241 -0.1475   -0.9225  ]\n",
      " [-0.07     -0.184463 -0.845   ]\n",
      " [-0.07     -0.187064 -0.7675  ]\n",
      " [-0.103966 -0.1475   -0.69    ]\n",
      " [-0.07     -0.157416 -0.69    ]\n",
      " [-0.07     -0.1475   -0.677584]\n",
      " [ 0.0075   -0.1475   -0.932452]\n",
      " [ 0.0075   -0.156116 -0.9225  ]\n",
      " [ 0.0075   -0.190965 -0.845   ]\n",
      " [ 0.0075   -0.193565 -0.7675  ]\n",
      " [ 0.0075   -0.163918 -0.69    ]\n",
      " [ 0.0075   -0.1475   -0.669443]\n",
      " [ 0.076892 -0.1475   -0.9225  ]\n",
      " [ 0.085    -0.1475   -0.920261]\n",
      " [ 0.085    -0.181342 -0.845   ]\n",
      " [ 0.085    -0.183943 -0.7675  ]\n",
      " [ 0.085    -0.154295 -0.69    ]\n",
      " [ 0.085    -0.1475   -0.681492]\n",
      " [ 0.1625   -0.1475   -0.863004]\n",
      " [ 0.1625   -0.155596 -0.845   ]\n",
      " [ 0.1625   -0.158196 -0.7675  ]\n",
      " [ 0.1625   -0.1475   -0.73954 ]\n",
      " [ 0.105455 -0.1475   -0.69    ]\n",
      " [ 0.177485 -0.1475   -0.845   ]\n",
      " [ 0.182298 -0.1475   -0.7675  ]\n",
      " [-0.225    -0.07     -0.891343]\n",
      " [-0.225    -0.10569  -0.845   ]\n",
      " [-0.254431 -0.07     -0.845   ]\n",
      " [-0.225    -0.110144 -0.7675  ]\n",
      " [-0.258104 -0.07     -0.7675  ]\n",
      " [-0.225    -0.07     -0.706228]\n",
      " [-0.1475   -0.07     -0.951076]\n",
      " [-0.1475   -0.112371 -0.9225  ]\n",
      " [-0.19698  -0.07     -0.9225  ]\n",
      " [-0.212584 -0.07     -0.69    ]\n",
      " [-0.1475   -0.125733 -0.69    ]\n",
      " [-0.1475   -0.07     -0.649254]\n",
      " [-0.07     -0.07     -0.977209]\n",
      " [-0.07     -0.07     -0.620924]\n",
      " [ 0.0075   -0.07     -0.984719]\n",
      " [ 0.0075   -0.07     -0.612784]\n",
      " [ 0.085    -0.145776 -0.9225  ]\n",
      " [ 0.085    -0.07     -0.973605]\n",
      " [ 0.085    -0.07     -0.624832]\n",
      " [ 0.1625   -0.07     -0.943866]\n",
      " [ 0.1625   -0.101681 -0.9225  ]\n",
      " [ 0.1625   -0.115043 -0.69    ]\n",
      " [ 0.1625   -0.07     -0.657069]\n",
      " [ 0.196739 -0.07     -0.9225  ]\n",
      " [ 0.24     -0.07     -0.870522]\n",
      " [ 0.24     -0.089655 -0.845   ]\n",
      " [ 0.24     -0.094109 -0.7675  ]\n",
      " [ 0.24     -0.07     -0.730702]\n",
      " [ 0.21118  -0.07     -0.69    ]\n",
      " [ 0.255336 -0.07     -0.845   ]\n",
      " [ 0.258812 -0.07     -0.7675  ]\n",
      " [-0.225     0.0075   -0.920261]\n",
      " [-0.272796  0.0075   -0.845   ]\n",
      " [-0.276469  0.0075   -0.7675  ]\n",
      " [-0.225    -0.033    -0.69    ]\n",
      " [-0.234597  0.0075   -0.69    ]\n",
      " [-0.225     0.0075   -0.681492]\n",
      " [-0.1475    0.0075   -0.966095]\n",
      " [-0.222987  0.0075   -0.9225  ]\n",
      " [-0.1475    0.0075   -0.632973]\n",
      " [-0.07      0.0075   -0.992229]\n",
      " [-0.091494  0.0075   -0.6125  ]\n",
      " [-0.07     -0.0299   -0.6125  ]\n",
      " [-0.07      0.0075   -0.607334]\n",
      " [ 0.0075    0.0075   -0.999738]\n",
      " [ 0.0075   -0.06865  -0.6125  ]\n",
      " [ 0.0075    0.0075   -0.601982]\n",
      " [ 0.085     0.0075   -0.988624]\n",
      " [ 0.085    -0.0113   -0.6125  ]\n",
      " [ 0.085     0.0075   -0.609903]\n",
      " [ 0.1625    0.0075   -0.958886]\n",
      " [ 0.1625    0.0075   -0.640788]\n",
      " [ 0.094495  0.0075   -0.6125  ]\n",
      " [ 0.220807  0.0075   -0.9225  ]\n",
      " [ 0.24      0.0075   -0.89944 ]\n",
      " [ 0.24      0.0075   -0.696711]\n",
      " [ 0.235248  0.0075   -0.69    ]\n",
      " [ 0.272713  0.0075   -0.845   ]\n",
      " [ 0.276188  0.0075   -0.7675  ]\n",
      " [-0.225     0.085    -0.877463]\n",
      " [-0.245616  0.085    -0.845   ]\n",
      " [-0.249289  0.085    -0.7675  ]\n",
      " [-0.225     0.034865 -0.69    ]\n",
      " [-0.225     0.085    -0.722544]\n",
      " [-0.1475    0.085    -0.943866]\n",
      " [-0.184497  0.085    -0.9225  ]\n",
      " [-0.200101  0.085    -0.69    ]\n",
      " [-0.1475    0.085    -0.657069]\n",
      " [-0.07      0.085    -0.97    ]\n",
      " [-0.07      0.03277  -0.6125  ]\n",
      " [-0.07      0.085    -0.62874 ]\n",
      " [ 0.0075    0.085    -0.97751 ]\n",
      " [ 0.0075    0.058953 -0.6125  ]\n",
      " [ 0.0075    0.085    -0.620599]\n",
      " [ 0.085     0.085    -0.966395]\n",
      " [ 0.085     0.020203 -0.6125  ]\n",
      " [ 0.085     0.085    -0.632647]\n",
      " [ 0.1625    0.085    -0.936657]\n",
      " [ 0.1625    0.085    -0.664884]\n",
      " [ 0.185186  0.085    -0.9225  ]\n",
      " [ 0.24      0.085    -0.856642]\n",
      " [ 0.24      0.085    -0.747018]\n",
      " [ 0.199627  0.085    -0.69    ]\n",
      " [ 0.246996  0.085    -0.845   ]\n",
      " [ 0.250471  0.085    -0.7675  ]\n",
      " [-0.225     0.10697  -0.845   ]\n",
      " [-0.225     0.110884 -0.7675  ]\n",
      " [-0.1475    0.112841 -0.9225  ]\n",
      " [-0.1475    0.1625   -0.849123]\n",
      " [-0.151208  0.1625   -0.845   ]\n",
      " [-0.156409  0.1625   -0.7675  ]\n",
      " [-0.1475    0.124583 -0.69    ]\n",
      " [-0.1475    0.1625   -0.755855]\n",
      " [-0.07      0.146894 -0.9225  ]\n",
      " [-0.07      0.1625   -0.89944 ]\n",
      " [-0.07      0.158636 -0.69    ]\n",
      " [-0.07      0.1625   -0.696711]\n",
      " [ 0.0075    0.156679 -0.9225  ]\n",
      " [ 0.0075    0.1625   -0.913899]\n",
      " [-0.0394    0.1625   -0.69    ]\n",
      " [ 0.0075    0.1625   -0.685074]\n",
      " [ 0.085     0.142197 -0.9225  ]\n",
      " [ 0.085     0.1625   -0.8925  ]\n",
      " [ 0.085     0.1625   -0.704868]\n",
      " [ 0.039189  0.1625   -0.69    ]\n",
      " [ 0.085     0.153939 -0.69    ]\n",
      " [ 0.1625    0.103447 -0.9225  ]\n",
      " [ 0.149293  0.1625   -0.845   ]\n",
      " [ 0.1625    0.155896 -0.845   ]\n",
      " [ 0.157121  0.1625   -0.7675  ]\n",
      " [ 0.1625    0.159811 -0.7675  ]\n",
      " [ 0.1625    0.115189 -0.69    ]\n",
      " [ 0.24      0.092879 -0.845   ]\n",
      " [ 0.24      0.096793 -0.7675  ]\n",
      " [-0.1475    0.164216 -0.845   ]\n",
      " [-0.1475    0.166623 -0.7675  ]\n",
      " [-0.07      0.185155 -0.845   ]\n",
      " [-0.07      0.187562 -0.7675  ]\n",
      " [ 0.0075    0.191172 -0.845   ]\n",
      " [ 0.0075    0.193579 -0.7675  ]\n",
      " [ 0.0075    0.166141 -0.69    ]\n",
      " [ 0.085     0.182267 -0.845   ]\n",
      " [ 0.085     0.184674 -0.7675  ]]\n",
      "torch.Size([156, 3])\n"
     ]
    }
   ],
   "source": [
    "with open(\"D:\\Projects\\Pixel2Mesh-1\\datasets\\data\\ellipsoid\\info_ellipsoid.dat\", \"rb\") as fp:\n",
    "    fp_info = pickle.load(fp, encoding='latin1')\n",
    "print(type(fp_info))\n",
    "print(fp_info[0])\n",
    "coord = torch.tensor(fp_info[0]) #- torch.tensor(mesh_pos, dtype=torch.float)\n",
    "print(coord.shape)"
   ]
  },
  {
   "cell_type": "code",
   "execution_count": 2,
   "metadata": {},
   "outputs": [],
   "source": [
    "import json\n",
    "import os\n",
    "import random\n",
    "import shutil"
   ]
  },
  {
   "cell_type": "code",
   "execution_count": 12,
   "metadata": {},
   "outputs": [
    {
     "name": "stdout",
     "output_type": "stream",
     "text": [
      "<class 'dict'>\n",
      "{'04256520': {'id': '04256520', 'name': 'sofa,couch,lounge'}, '02691156': {'id': '02691156', 'name': 'airplane,aeroplane,plane'}, '03636649': {'id': '03636649', 'name': 'lamp'}, '04401088': {'id': '04401088', 'name': 'telephone,phone,telephone set'}, '04530566': {'id': '04530566', 'name': 'vessel,watercraft'}, '03691459': {'id': '03691459', 'name': 'loudspeaker,speaker,speaker unit,loudspeaker system,speaker system'}, '03001627': {'id': '03001627', 'name': 'chair'}, '02933112': {'id': '02933112', 'name': 'cabinet'}, '04379243': {'id': '04379243', 'name': 'table'}, '03211117': {'id': '03211117', 'name': 'display,video display'}, '02958343': {'id': '02958343', 'name': 'car,auto,automobile,machine,motorcar'}, '02828884': {'id': '02828884', 'name': 'bench'}, '04090263': {'id': '04090263', 'name': 'rifle'}}\n"
     ]
    }
   ],
   "source": [
    "with open(\"D:\\Projects\\Pixel2Mesh-1\\datasets\\data\\shapenet\\meta\\shapenet.json\") as fp:\n",
    "    labels_map = json.load(fp)\n",
    "\n",
    "print(type(labels_map))\n",
    "print(labels_map)"
   ]
  },
  {
   "cell_type": "code",
   "execution_count": null,
   "metadata": {},
   "outputs": [],
   "source": [
    "with open(\"D:\\Projects\\Pixel2Mesh-1\\datasets\\data\\shapenet\\meta/test_tf.txt\") as fp:\n",
    "    lines = [line.strip() for line in fp.readlines()]\n",
    "\n",
    "print(type(lines))\n",
    "print(lines)"
   ]
  },
  {
   "cell_type": "code",
   "execution_count": null,
   "metadata": {},
   "outputs": [],
   "source": [
    "print(labels_map.values)\n",
    "for entry in labels_map.values():\n",
    "\n",
    "    file_list = list(filter(lambda x: (entry[\"id\"] + \"/\") in x, lines))\n",
    "    #随机选择一个file\n",
    "    chosen = random.choice(file_list)\n",
    "    file_location = os.path.join(\"D:\\Projects\\Pixel2Mesh-1\\datasets/data/shapenet/data_tf\",\n",
    "                                 chosen[len(\"Data/ShapeNetP2M/\"):-4] + \".png\")\n",
    "    print(file_location)\n",
    "    shutil.copyfile(file_location, \"D:\\Projects\\Pixel2Mesh-1\\datasets/examples/%s.png\" % entry[\"name\"].split(\",\")[0])"
   ]
  }
 ],
 "metadata": {
  "kernelspec": {
   "display_name": "i2dl",
   "language": "python",
   "name": "python3"
  },
  "language_info": {
   "codemirror_mode": {
    "name": "ipython",
    "version": 3
   },
   "file_extension": ".py",
   "mimetype": "text/x-python",
   "name": "python",
   "nbconvert_exporter": "python",
   "pygments_lexer": "ipython3",
   "version": "3.7.11"
  },
  "orig_nbformat": 4,
  "vscode": {
   "interpreter": {
    "hash": "b977a7b99e857528a5d6a72a2c6c2b148f68b0035bac9a7e7e5707aaf8450c73"
   }
  }
 },
 "nbformat": 4,
 "nbformat_minor": 2
}
