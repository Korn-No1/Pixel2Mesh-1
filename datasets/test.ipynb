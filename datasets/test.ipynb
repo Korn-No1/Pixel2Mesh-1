{
 "cells": [
  {
   "cell_type": "code",
   "execution_count": 35,
   "metadata": {},
   "outputs": [],
   "source": [
    "import json\n",
    "import os\n",
    "import pickle\n",
    "from skimage import io\n",
    "import numpy as np\n",
    "import torch"
   ]
  },
  {
   "cell_type": "code",
   "execution_count": 2,
   "metadata": {},
   "outputs": [
    {
     "name": "stdout",
     "output_type": "stream",
     "text": [
      "['02691156', '02828884', '02933112', '02958343', '03001627', '03211117', '03636649', '03691459', '04090263', '04256520', '04379243', '04401088', '04530566']\n",
      "<enumerate object at 0x000002804D2648B8>\n",
      "{0: '02691156', 1: '02828884', 2: '02933112', 3: '02958343', 4: '03001627', 5: '03211117', 6: '03636649', 7: '03691459', 8: '04090263', 9: '04256520', 10: '04379243', 11: '04401088', 12: '04530566'}\n"
     ]
    }
   ],
   "source": [
    "with open(os.path.join(\"D:\\Projects\\Pixel2Mesh-1\\datasets\\data\\shapenet\", \"meta\", \"shapenet.json\"), \"r\") as fp:\n",
    "    # a=json.load(fp)\n",
    "    # print\n",
    "    labels_map = sorted(list(json.load(fp).keys()))\n",
    "\n",
    "print(labels_map)\n",
    "\n",
    "print(enumerate(labels_map))\n",
    "\n",
    "labels_map = {i:k for i, k in enumerate(labels_map)}\n",
    "\n",
    "print(labels_map)"
   ]
  },
  {
   "cell_type": "code",
   "execution_count": 4,
   "metadata": {},
   "outputs": [
    {
     "name": "stdout",
     "output_type": "stream",
     "text": [
      "<class 'list'>\n",
      "['02691156_fff513f407e00e85a9ced22d91ad7027_14.dat', '02691156_fff513f407e00e85a9ced22d91ad7027_15.dat', '02691156_fff513f407e00e85a9ced22d91ad7027_16.dat', '02691156_fff513f407e00e85a9ced22d91ad7027_17.dat', '02691156_fff513f407e00e85a9ced22d91ad7027_18.dat', '02691156_fff513f407e00e85a9ced22d91ad7027_19.dat', '02691156_fff513f407e00e85a9ced22d91ad7027_20.dat', '02691156_fff513f407e00e85a9ced22d91ad7027_21.dat', '02691156_fff513f407e00e85a9ced22d91ad7027_22.dat']\n",
      "['02691156_fff513f407e00e85a9ced22d91ad7027_14.dat', '02691156_fff513f407e00e85a9ced22d91ad7027_15.dat', '02691156_fff513f407e00e85a9ced22d91ad7027_16.dat', '02691156_fff513f407e00e85a9ced22d91ad7027_17.dat', '02691156_fff513f407e00e85a9ced22d91ad7027_18.dat', '02691156_fff513f407e00e85a9ced22d91ad7027_19.dat', '02691156_fff513f407e00e85a9ced22d91ad7027_20.dat', '02691156_fff513f407e00e85a9ced22d91ad7027_21.dat', '02691156_fff513f407e00e85a9ced22d91ad7027_22.dat']\n",
      "['02691156_fff513f407e00e85a9ced22d91ad7027_14.dat', '02691156_fff513f407e00e85a9ced22d91ad7027_15.dat', '02691156_fff513f407e00e85a9ced22d91ad7027_16.dat', '02691156_fff513f407e00e85a9ced22d91ad7027_17.dat', '02691156_fff513f407e00e85a9ced22d91ad7027_18.dat', '02691156_fff513f407e00e85a9ced22d91ad7027_19.dat', '02691156_fff513f407e00e85a9ced22d91ad7027_20.dat', '02691156_fff513f407e00e85a9ced22d91ad7027_21.dat', '02691156_fff513f407e00e85a9ced22d91ad7027_22.dat', '02691156_fff513f407e00e85a9ced22d91ad7027_23.dat']\n"
     ]
    }
   ],
   "source": [
    "with open(os.path.join(\"D:\\Projects\\Pixel2Mesh-1\\datasets\\data\\shapenet\", \"meta\", \"test_small.txt\"), \"r\") as fp:\n",
    "    file_names = fp.read().split(\"\\n\")\n",
    "\n",
    "print(type(file_names))\n",
    "print(file_names[-10:-1])\n",
    "print(file_names[-10:-1])\n",
    "print(file_names[-10:])"
   ]
  },
  {
   "cell_type": "code",
   "execution_count": 28,
   "metadata": {},
   "outputs": [
    {
     "name": "stdout",
     "output_type": "stream",
     "text": [
      "[0, 1, 2, 3, 4, 5, 6, 7, 8, 9]\n",
      "[0, 1, 2, 3, 4, 5, 6, 7, 8]\n"
     ]
    }
   ],
   "source": [
    "L = list(range(10))\n",
    "print(L)\n",
    "print(L[:9])"
   ]
  },
  {
   "cell_type": "code",
   "execution_count": 17,
   "metadata": {},
   "outputs": [
    {
     "name": "stdout",
     "output_type": "stream",
     "text": [
      "(8096, 3)\n",
      "[[-0.03563542  0.05891569 -0.89526075]\n",
      " [-0.05031313  0.06098781 -0.8937496 ]\n",
      " [-0.04333718  0.074516   -0.8918777 ]\n",
      " ...\n",
      " [ 0.02759777 -0.05798382 -0.68825823]\n",
      " [ 0.03280783 -0.06926504 -0.68265325]\n",
      " [ 0.03412661 -0.07334752 -0.6806949 ]]\n",
      "(8096, 3)\n"
     ]
    }
   ],
   "source": [
    "pkl_path =\"D:/Projects/Pixel2Mesh-1\\datasets\\data\\shapenet\\data_tf/02691156/fff513f407e00e85a9ced22d91ad7027/rendering/00.dat\"\n",
    "\n",
    "#with open(pkl_path) as f:\n",
    "data = pickle.load(open(pkl_path, 'rb'), encoding=\"latin1\")\n",
    "pts, normals = data[:, :3], data[:, 3:]\n",
    "print(pts.shape)\n",
    "print(pts)\n",
    "print(normals.shape)"
   ]
  },
  {
   "cell_type": "code",
   "execution_count": 26,
   "metadata": {},
   "outputs": [
    {
     "name": "stdout",
     "output_type": "stream",
     "text": [
      "(137, 137, 4)\n",
      "(137, 137, 4)\n"
     ]
    }
   ],
   "source": [
    "img = io.imread(\"D:\\Projects\\Pixel2Mesh-1\\datasets\\data\\shapenet\\data_tf/02691156/fff513f407e00e85a9ced22d91ad7027/rendering/00.png\")\n",
    "print(img.shape)\n",
    "#img[np.where(img[:, :, 3] == 0)] = 255\n",
    "print(img.shape)"
   ]
  },
  {
   "cell_type": "code",
   "execution_count": 30,
   "metadata": {},
   "outputs": [
    {
     "data": {
      "text/plain": [
       "'1.000000 (5.000000)'"
      ]
     },
     "execution_count": 30,
     "metadata": {},
     "output_type": "execute_result"
    }
   ],
   "source": [
    "\"%.6f (%.6f)\" % (1,5)"
   ]
  },
  {
   "cell_type": "code",
   "execution_count": 41,
   "metadata": {},
   "outputs": [
    {
     "name": "stdout",
     "output_type": "stream",
     "text": [
      "<class 'tuple'>\n",
      "torch.Size([156, 3])\n"
     ]
    }
   ],
   "source": [
    "with open(\"D:\\Projects\\Pixel2Mesh-1\\datasets\\data\\ellipsoid\\info_ellipsoid.dat\", \"rb\") as fp:\n",
    "    fp_info = pickle.load(fp, encoding='latin1')\n",
    "print(type(fp_info))\n",
    "print(fp_info[0])\n",
    "coord = torch.tensor(fp_info[0]) #- torch.tensor(mesh_pos, dtype=torch.float)\n",
    "print(coord.shape)"
   ]
  },
  {
   "cell_type": "code",
   "execution_count": null,
   "metadata": {},
   "outputs": [],
   "source": []
  }
 ],
 "metadata": {
  "kernelspec": {
   "display_name": "i2dl",
   "language": "python",
   "name": "python3"
  },
  "language_info": {
   "codemirror_mode": {
    "name": "ipython",
    "version": 3
   },
   "file_extension": ".py",
   "mimetype": "text/x-python",
   "name": "python",
   "nbconvert_exporter": "python",
   "pygments_lexer": "ipython3",
   "version": "3.7.11"
  },
  "orig_nbformat": 4,
  "vscode": {
   "interpreter": {
    "hash": "b977a7b99e857528a5d6a72a2c6c2b148f68b0035bac9a7e7e5707aaf8450c73"
   }
  }
 },
 "nbformat": 4,
 "nbformat_minor": 2
}
